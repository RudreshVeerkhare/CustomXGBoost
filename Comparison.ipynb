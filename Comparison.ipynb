{
 "cells": [
  {
   "cell_type": "code",
   "execution_count": 12,
   "metadata": {},
   "outputs": [],
   "source": [
    "from CustomXGBoost import (XGBRegressor,\n",
    "                           XGBRegressorAdam,\n",
    "                           XGBRegressorRMS,\n",
    "                           XGBClassifier\n",
    "                          )\n",
    "import xgboost"
   ]
  },
  {
   "cell_type": "code",
   "execution_count": 10,
   "metadata": {},
   "outputs": [],
   "source": [
    "from sklearn.datasets import load_diabetes\n",
    "from sklearn.model_selection import train_test_split\n",
    "from sklearn.metrics import mean_squared_error, accuracy_score, log_loss, mean_absolute_error\n",
    "import pandas as pd\n",
    "import numpy as np\n",
    "import seaborn as sns;sns.set(style=\"whitegrid\")\n",
    "import matplotlib.pyplot as plt\n",
    "%matplotlib inline"
   ]
  },
  {
   "cell_type": "markdown",
   "metadata": {},
   "source": [
    "We'll use sklearn's diabetes dataset for evaluation"
   ]
  },
  {
   "cell_type": "code",
   "execution_count": 3,
   "metadata": {},
   "outputs": [],
   "source": [
    "data = load_diabetes()\n",
    "dataset = pd.DataFrame(data.data, columns=data.feature_names)\n",
    "# split data into X and y\n",
    "X = dataset\n",
    "Y = data[\"target\"]\n",
    "\n",
    "test_size = 0.20\n",
    "X_train, X_test, y_train, y_test = train_test_split(X, Y, test_size=test_size, random_state=7)"
   ]
  },
  {
   "cell_type": "code",
   "execution_count": 4,
   "metadata": {},
   "outputs": [],
   "source": [
    "results = dict() # to store results of each model"
   ]
  },
  {
   "cell_type": "markdown",
   "metadata": {},
   "source": [
    "We'll use default values for parameters as given in XGBoost official Documentation"
   ]
  },
  {
   "cell_type": "markdown",
   "metadata": {},
   "source": [
    "## XGBoost with Adam Optimizer"
   ]
  },
  {
   "cell_type": "code",
   "execution_count": 5,
   "metadata": {
    "scrolled": false
   },
   "outputs": [
    {
     "name": "stdout",
     "output_type": "stream",
     "text": [
      "[0] validation_set-rmse : 70.7528930856603\t[0] train_set-rmse : 77.67252928913183\n",
      "[1] validation_set-rmse : 70.12902840400017\t[1] train_set-rmse : 76.65038564857271\n",
      "[2] validation_set-rmse : 69.35332686078266\t[2] train_set-rmse : 75.46255816470534\n",
      "[3] validation_set-rmse : 68.5897392807819\t[3] train_set-rmse : 74.1687074245387\n",
      "[4] validation_set-rmse : 67.82162488893127\t[4] train_set-rmse : 72.80644924629905\n",
      "[5] validation_set-rmse : 67.05220904617751\t[5] train_set-rmse : 71.39102371966652\n",
      "[6] validation_set-rmse : 66.25400762606795\t[6] train_set-rmse : 69.9462153179027\n",
      "[7] validation_set-rmse : 65.44717983935875\t[7] train_set-rmse : 68.48607144878196\n",
      "[8] validation_set-rmse : 64.64484663595937\t[8] train_set-rmse : 67.02473391975211\n",
      "[9] validation_set-rmse : 63.88218987773402\t[9] train_set-rmse : 65.56772580477039\n",
      "[10] validation_set-rmse : 63.17389444708086\t[10] train_set-rmse : 64.1207000837676\n",
      "[11] validation_set-rmse : 62.549635331263985\t[11] train_set-rmse : 62.6864757723445\n",
      "[12] validation_set-rmse : 61.99737730405226\t[12] train_set-rmse : 61.27127128161397\n",
      "[13] validation_set-rmse : 61.509435694032305\t[13] train_set-rmse : 59.88069226703248\n",
      "[14] validation_set-rmse : 61.08645882102075\t[14] train_set-rmse : 58.51787342426692\n",
      "[15] validation_set-rmse : 60.7102317190869\t[15] train_set-rmse : 57.18657771442372\n",
      "[16] validation_set-rmse : 60.3793603178282\t[16] train_set-rmse : 55.886328438971766\n",
      "[17] validation_set-rmse : 60.05227967883027\t[17] train_set-rmse : 54.6193384080856\n",
      "[18] validation_set-rmse : 59.74211586545251\t[18] train_set-rmse : 53.38677502760091\n",
      "[19] validation_set-rmse : 59.452795443288466\t[19] train_set-rmse : 52.18962212616742\n",
      "[20] validation_set-rmse : 59.18409694062034\t[20] train_set-rmse : 51.02909123484883\n",
      "[21] validation_set-rmse : 58.93605666510047\t[21] train_set-rmse : 49.90519409370983\n",
      "[22] validation_set-rmse : 58.714545990443476\t[22] train_set-rmse : 48.81636074339002\n",
      "[23] validation_set-rmse : 58.511804910576394\t[23] train_set-rmse : 47.76178321514528\n",
      "[24] validation_set-rmse : 58.333069585837485\t[24] train_set-rmse : 46.73825211141856\n",
      "[25] validation_set-rmse : 58.17958827227114\t[25] train_set-rmse : 45.74643088895146\n",
      "[26] validation_set-rmse : 58.03684938906901\t[26] train_set-rmse : 44.78679079108253\n",
      "[27] validation_set-rmse : 57.904095193043254\t[27] train_set-rmse : 43.858127345433864\n",
      "[28] validation_set-rmse : 57.78031670443018\t[28] train_set-rmse : 42.95659977633642\n",
      "[29] validation_set-rmse : 57.66646216183535\t[29] train_set-rmse : 42.082217151394744\n",
      "[30] validation_set-rmse : 57.555496790804376\t[30] train_set-rmse : 41.23967699812704\n",
      "[31] validation_set-rmse : 57.44859694153517\t[31] train_set-rmse : 40.42830615908872\n",
      "[32] validation_set-rmse : 57.344479584608735\t[32] train_set-rmse : 39.650328799304845\n",
      "[33] validation_set-rmse : 57.23976424342061\t[33] train_set-rmse : 38.90563268600624\n",
      "[34] validation_set-rmse : 57.14837025567875\t[34] train_set-rmse : 38.181150733371126\n",
      "[35] validation_set-rmse : 57.07067167232481\t[35] train_set-rmse : 37.47605669802872\n",
      "[36] validation_set-rmse : 57.00799993364779\t[36] train_set-rmse : 36.789970475936045\n",
      "[37] validation_set-rmse : 56.956102291866316\t[37] train_set-rmse : 36.127984072271566\n",
      "[38] validation_set-rmse : 56.914177901069124\t[38] train_set-rmse : 35.48909649662155\n",
      "[39] validation_set-rmse : 56.87808565580911\t[39] train_set-rmse : 34.87204914232287\n",
      "[40] validation_set-rmse : 56.85016627655774\t[40] train_set-rmse : 34.27688428465364\n",
      "[41] validation_set-rmse : 56.82668348390301\t[41] train_set-rmse : 33.70219228483329\n",
      "[42] validation_set-rmse : 56.815058710809566\t[42] train_set-rmse : 33.15044680319828\n",
      "[43] validation_set-rmse : 56.81270090309552\t[43] train_set-rmse : 32.616622675306616\n",
      "[44] validation_set-rmse : 56.81847480852833\t[44] train_set-rmse : 32.09971570612231\n",
      "[45] validation_set-rmse : 56.83203298360341\t[45] train_set-rmse : 31.59743140881979\n",
      "[46] validation_set-rmse : 56.85152006523447\t[46] train_set-rmse : 31.109363992700732\n",
      "[47] validation_set-rmse : 56.867137030231575\t[47] train_set-rmse : 30.628805294878127\n",
      "[48] validation_set-rmse : 56.882750445120664\t[48] train_set-rmse : 30.15635361964289\n",
      "[49] validation_set-rmse : 56.896765029448915\t[49] train_set-rmse : 29.691402997835123\n",
      "[50] validation_set-rmse : 56.91513146240945\t[50] train_set-rmse : 29.236848902183162\n",
      "[51] validation_set-rmse : 56.93477950542577\t[51] train_set-rmse : 28.79325624740551\n",
      "[52] validation_set-rmse : 56.95370016894687\t[52] train_set-rmse : 28.364064683412106\n",
      "[53] validation_set-rmse : 56.97184095185725\t[53] train_set-rmse : 27.94894965085329\n",
      "[54] validation_set-rmse : 56.98710657794945\t[54] train_set-rmse : 27.541777824962328\n",
      "[55] validation_set-rmse : 57.00343156227027\t[55] train_set-rmse : 27.142383066073492\n",
      "[56] validation_set-rmse : 57.02408664968978\t[56] train_set-rmse : 26.748675070791872\n",
      "[57] validation_set-rmse : 57.053124320118044\t[57] train_set-rmse : 26.366369467550058\n",
      "[58] validation_set-rmse : 57.088781157625746\t[58] train_set-rmse : 25.994387373089165\n",
      "[59] validation_set-rmse : 57.12036307879717\t[59] train_set-rmse : 25.633357016925917\n",
      "[60] validation_set-rmse : 57.14496007081077\t[60] train_set-rmse : 25.282249261022674\n",
      "[61] validation_set-rmse : 57.17942831820685\t[61] train_set-rmse : 24.939000510254953\n",
      "[62] validation_set-rmse : 57.216960208568594\t[62] train_set-rmse : 24.60350433977829\n",
      "[63] validation_set-rmse : 57.25449744659868\t[63] train_set-rmse : 24.27606837863743\n",
      "[64] validation_set-rmse : 57.28995470290382\t[64] train_set-rmse : 23.956469972336038\n",
      "[65] validation_set-rmse : 57.324873428622126\t[65] train_set-rmse : 23.6447479932092\n",
      "[66] validation_set-rmse : 57.35911446361627\t[66] train_set-rmse : 23.34044267564728\n",
      "[67] validation_set-rmse : 57.39100094326913\t[67] train_set-rmse : 23.04342088966213\n",
      "[68] validation_set-rmse : 57.41897208846221\t[68] train_set-rmse : 22.752869937835893\n",
      "[69] validation_set-rmse : 57.44371940403925\t[69] train_set-rmse : 22.468871572717553\n",
      "[70] validation_set-rmse : 57.46768446650976\t[70] train_set-rmse : 22.191655365980427\n",
      "[71] validation_set-rmse : 57.490900331507\t[71] train_set-rmse : 21.92160675747624\n",
      "[72] validation_set-rmse : 57.51194068067505\t[72] train_set-rmse : 21.658807019102618\n",
      "[73] validation_set-rmse : 57.53040653183714\t[73] train_set-rmse : 21.401835306448323\n",
      "[74] validation_set-rmse : 57.54681689044976\t[74] train_set-rmse : 21.150702169159043\n",
      "[75] validation_set-rmse : 57.560924789194985\t[75] train_set-rmse : 20.905702165770418\n",
      "[76] validation_set-rmse : 57.57308193599349\t[76] train_set-rmse : 20.666749910001776\n",
      "[77] validation_set-rmse : 57.58538503697808\t[77] train_set-rmse : 20.433672330319673\n",
      "[78] validation_set-rmse : 57.60215846558471\t[78] train_set-rmse : 20.204691176995745\n",
      "[79] validation_set-rmse : 57.62286790893358\t[79] train_set-rmse : 19.979810672441577\n",
      "[80] validation_set-rmse : 57.64164641197097\t[80] train_set-rmse : 19.75999844786836\n",
      "[81] validation_set-rmse : 57.662982598521516\t[81] train_set-rmse : 19.546655382641475\n",
      "[82] validation_set-rmse : 57.682338250950785\t[82] train_set-rmse : 19.33937228354989\n",
      "[83] validation_set-rmse : 57.710850551313214\t[83] train_set-rmse : 19.135119099362054\n",
      "[84] validation_set-rmse : 57.74280965849508\t[84] train_set-rmse : 18.934061297511015\n",
      "[85] validation_set-rmse : 57.78140647350806\t[85] train_set-rmse : 18.735774654288637\n",
      "[86] validation_set-rmse : 57.81730368468233\t[86] train_set-rmse : 18.541247254414458\n",
      "[87] validation_set-rmse : 57.849321324251505\t[87] train_set-rmse : 18.350797811886252\n",
      "[88] validation_set-rmse : 57.88220205870552\t[88] train_set-rmse : 18.16366262531718\n",
      "[89] validation_set-rmse : 57.91334324613627\t[89] train_set-rmse : 17.98026150184139\n",
      "[90] validation_set-rmse : 57.94131243489567\t[90] train_set-rmse : 17.80103408024871\n",
      "[91] validation_set-rmse : 57.965018615515945\t[91] train_set-rmse : 17.62625711841139\n",
      "[92] validation_set-rmse : 57.99016373470632\t[92] train_set-rmse : 17.45624530289148\n",
      "[93] validation_set-rmse : 58.01741857193171\t[93] train_set-rmse : 17.290938905411128\n",
      "[94] validation_set-rmse : 58.0473217571533\t[94] train_set-rmse : 17.12994959320826\n",
      "[95] validation_set-rmse : 58.07996710424634\t[95] train_set-rmse : 16.969431535433\n",
      "[96] validation_set-rmse : 58.110989641585384\t[96] train_set-rmse : 16.80068817610329\n"
     ]
    },
    {
     "name": "stdout",
     "output_type": "stream",
     "text": [
      "[97] validation_set-rmse : 58.135152130251114\t[97] train_set-rmse : 16.626336558191394\n",
      "[98] validation_set-rmse : 58.15194523919698\t[98] train_set-rmse : 16.44596868289292\n",
      "[99] validation_set-rmse : 58.17059612151663\t[99] train_set-rmse : 16.26553783508625\n"
     ]
    }
   ],
   "source": [
    "custom = XGBRegressorAdam() ## Adam Optimizer is used in this implementation while doing gradient boosting\n",
    "custom.fit(X_train.values, y_train, eval_set = (X_test.values, y_test)) ## Check CustomXGBoost.py for implementation\n",
    "\n",
    "y_pred = custom.predict(X_test.values)\n",
    "results[\"Adam\"] = custom.history"
   ]
  },
  {
   "cell_type": "markdown",
   "metadata": {},
   "source": [
    "## XGBoost with RMSProp Optimizer"
   ]
  },
  {
   "cell_type": "code",
   "execution_count": 6,
   "metadata": {},
   "outputs": [
    {
     "name": "stdout",
     "output_type": "stream",
     "text": [
      "[0] validation_set-rmse : 66.97774624677706\t[0] train_set-rmse : 71.11615600163847\n",
      "[1] validation_set-rmse : 63.78491447411068\t[1] train_set-rmse : 66.06505405336955\n",
      "[2] validation_set-rmse : 61.94198001744035\t[2] train_set-rmse : 62.26835498176733\n",
      "[3] validation_set-rmse : 60.69542852579092\t[3] train_set-rmse : 59.1306916054687\n",
      "[4] validation_set-rmse : 60.35100355445515\t[4] train_set-rmse : 56.440578219003015\n",
      "[5] validation_set-rmse : 60.075541235250974\t[5] train_set-rmse : 54.113561692183715\n",
      "[6] validation_set-rmse : 59.38647609729904\t[6] train_set-rmse : 52.13431593205579\n",
      "[7] validation_set-rmse : 59.01586881922398\t[7] train_set-rmse : 50.271507378474084\n",
      "[8] validation_set-rmse : 58.66371134422615\t[8] train_set-rmse : 48.63312950537583\n",
      "[9] validation_set-rmse : 58.18842025791387\t[9] train_set-rmse : 47.153108176229765\n",
      "[10] validation_set-rmse : 58.05527704454894\t[10] train_set-rmse : 45.756142360692024\n",
      "[11] validation_set-rmse : 57.8256687368538\t[11] train_set-rmse : 44.34220872907417\n",
      "[12] validation_set-rmse : 57.578646719498565\t[12] train_set-rmse : 43.09685332597541\n",
      "[13] validation_set-rmse : 57.30765751478974\t[13] train_set-rmse : 41.923200168879774\n",
      "[14] validation_set-rmse : 57.381620249061115\t[14] train_set-rmse : 40.73099075628054\n",
      "[15] validation_set-rmse : 57.12716928111938\t[15] train_set-rmse : 39.63594229856563\n",
      "[16] validation_set-rmse : 56.762126224736\t[16] train_set-rmse : 38.528783826827826\n",
      "[17] validation_set-rmse : 56.97829869839805\t[17] train_set-rmse : 37.64866664257431\n",
      "[18] validation_set-rmse : 56.777442241555924\t[18] train_set-rmse : 36.79597104412123\n",
      "[19] validation_set-rmse : 56.67096388287034\t[19] train_set-rmse : 35.839412716201586\n",
      "[20] validation_set-rmse : 56.461696806704786\t[20] train_set-rmse : 35.10649344544482\n",
      "[21] validation_set-rmse : 56.466670503909704\t[21] train_set-rmse : 34.30960005500385\n",
      "[22] validation_set-rmse : 56.31345865503251\t[22] train_set-rmse : 33.41887753926461\n",
      "[23] validation_set-rmse : 56.40415565038645\t[23] train_set-rmse : 32.713550580881126\n",
      "[24] validation_set-rmse : 56.26288333191959\t[24] train_set-rmse : 31.996440222674227\n",
      "[25] validation_set-rmse : 56.358830912703084\t[25] train_set-rmse : 31.240911855733113\n",
      "[26] validation_set-rmse : 56.460846343096804\t[26] train_set-rmse : 30.623288539606147\n",
      "[27] validation_set-rmse : 56.263851008554084\t[27] train_set-rmse : 29.90721523634041\n",
      "[28] validation_set-rmse : 56.39623572576827\t[28] train_set-rmse : 29.310974553262366\n",
      "[29] validation_set-rmse : 56.31828718985569\t[29] train_set-rmse : 28.654824753277467\n",
      "[30] validation_set-rmse : 56.26895630202881\t[30] train_set-rmse : 28.041073331173617\n",
      "[31] validation_set-rmse : 56.2568908822404\t[31] train_set-rmse : 27.42200528042143\n",
      "[32] validation_set-rmse : 56.26237971380896\t[32] train_set-rmse : 26.835019787474724\n",
      "[33] validation_set-rmse : 56.25232325703132\t[33] train_set-rmse : 26.33079616047782\n",
      "[34] validation_set-rmse : 56.37085973967953\t[34] train_set-rmse : 25.791827745509792\n",
      "[35] validation_set-rmse : 56.49820058352158\t[35] train_set-rmse : 25.266063578377004\n",
      "[36] validation_set-rmse : 56.52787064762644\t[36] train_set-rmse : 24.79561990760905\n",
      "[37] validation_set-rmse : 56.465470426398596\t[37] train_set-rmse : 24.356533716808155\n",
      "[38] validation_set-rmse : 56.46824267449622\t[38] train_set-rmse : 23.909141555932113\n",
      "[39] validation_set-rmse : 56.4451511158998\t[39] train_set-rmse : 23.531940251254824\n",
      "[40] validation_set-rmse : 56.41646687713754\t[40] train_set-rmse : 23.15307920275868\n",
      "[41] validation_set-rmse : 56.45650011177105\t[41] train_set-rmse : 22.7161868065229\n",
      "[42] validation_set-rmse : 56.56982713456016\t[42] train_set-rmse : 22.329563139251476\n",
      "[43] validation_set-rmse : 56.60846827635513\t[43] train_set-rmse : 21.989074563010348\n",
      "[44] validation_set-rmse : 56.611583756725416\t[44] train_set-rmse : 21.616643696183026\n",
      "[45] validation_set-rmse : 56.53650298330179\t[45] train_set-rmse : 21.261404376929306\n",
      "[46] validation_set-rmse : 56.639364837662065\t[46] train_set-rmse : 20.896920228205015\n",
      "[47] validation_set-rmse : 56.65316808205064\t[47] train_set-rmse : 20.58012515210105\n",
      "[48] validation_set-rmse : 56.71097959289365\t[48] train_set-rmse : 20.232782896678028\n",
      "[49] validation_set-rmse : 56.743738798757754\t[49] train_set-rmse : 19.88186378703543\n",
      "[50] validation_set-rmse : 56.758137688930624\t[50] train_set-rmse : 19.589544748371647\n",
      "[51] validation_set-rmse : 56.74416697493383\t[51] train_set-rmse : 19.31033851211697\n",
      "[52] validation_set-rmse : 56.81781466419785\t[52] train_set-rmse : 18.980004700262487\n",
      "[53] validation_set-rmse : 56.870937380390494\t[53] train_set-rmse : 18.639814990255424\n",
      "[54] validation_set-rmse : 56.87289840749166\t[54] train_set-rmse : 18.378511151676236\n",
      "[55] validation_set-rmse : 56.891809825612114\t[55] train_set-rmse : 18.044148547643626\n",
      "[56] validation_set-rmse : 56.953312397257186\t[56] train_set-rmse : 17.749051764939967\n",
      "[57] validation_set-rmse : 56.995596826504894\t[57] train_set-rmse : 17.474514469887925\n",
      "[58] validation_set-rmse : 57.011422497176774\t[58] train_set-rmse : 17.227313391350044\n",
      "[59] validation_set-rmse : 56.99784790790164\t[59] train_set-rmse : 17.012135503017525\n",
      "[60] validation_set-rmse : 57.00998140839649\t[60] train_set-rmse : 16.78167999223981\n",
      "[61] validation_set-rmse : 56.97976367784766\t[61] train_set-rmse : 16.547333604571953\n",
      "[62] validation_set-rmse : 56.929984496713516\t[62] train_set-rmse : 16.32027736358286\n",
      "[63] validation_set-rmse : 56.96074031256534\t[63] train_set-rmse : 16.106560231254324\n",
      "[64] validation_set-rmse : 56.86551566902964\t[64] train_set-rmse : 15.866076904198605\n",
      "[65] validation_set-rmse : 56.86017878926962\t[65] train_set-rmse : 15.64452150535231\n",
      "[66] validation_set-rmse : 56.90795114058006\t[66] train_set-rmse : 15.441292385820395\n",
      "[67] validation_set-rmse : 56.88009232128105\t[67] train_set-rmse : 15.242869229131935\n",
      "[68] validation_set-rmse : 56.89092284717545\t[68] train_set-rmse : 15.008323956883975\n",
      "[69] validation_set-rmse : 56.919057899008976\t[69] train_set-rmse : 14.814473685208934\n",
      "[70] validation_set-rmse : 56.89652935665877\t[70] train_set-rmse : 14.593559914635897\n",
      "[71] validation_set-rmse : 56.92099419781018\t[71] train_set-rmse : 14.384483999750312\n",
      "[72] validation_set-rmse : 56.9483934927795\t[72] train_set-rmse : 14.21550185308213\n",
      "[73] validation_set-rmse : 56.991252215026044\t[73] train_set-rmse : 14.041757813104418\n",
      "[74] validation_set-rmse : 57.06279672951853\t[74] train_set-rmse : 13.879909981827035\n",
      "[75] validation_set-rmse : 57.12050014667471\t[75] train_set-rmse : 13.696376200061847\n",
      "[76] validation_set-rmse : 57.112891096648816\t[76] train_set-rmse : 13.548364944147073\n",
      "[77] validation_set-rmse : 57.112707642256716\t[77] train_set-rmse : 13.389664877883543\n",
      "[78] validation_set-rmse : 57.12777110182281\t[78] train_set-rmse : 13.199024723629218\n",
      "[79] validation_set-rmse : 57.142314321929234\t[79] train_set-rmse : 13.015901171632853\n",
      "[80] validation_set-rmse : 57.138152690260966\t[80] train_set-rmse : 12.84662255383639\n",
      "[81] validation_set-rmse : 57.158987216003375\t[81] train_set-rmse : 12.676573709492141\n",
      "[82] validation_set-rmse : 57.16271463359731\t[82] train_set-rmse : 12.514476996010847\n",
      "[83] validation_set-rmse : 57.16690039798333\t[83] train_set-rmse : 12.369098617848875\n",
      "[84] validation_set-rmse : 57.167644675122794\t[84] train_set-rmse : 12.215847200626673\n",
      "[85] validation_set-rmse : 57.22253187572458\t[85] train_set-rmse : 12.059544097492664\n",
      "[86] validation_set-rmse : 57.24099319793091\t[86] train_set-rmse : 11.8948995253456\n",
      "[87] validation_set-rmse : 57.23678836787264\t[87] train_set-rmse : 11.736683102458665\n",
      "[88] validation_set-rmse : 57.32522817173627\t[88] train_set-rmse : 11.600363530292954\n",
      "[89] validation_set-rmse : 57.35333678802823\t[89] train_set-rmse : 11.445742614328424\n",
      "[90] validation_set-rmse : 57.340193434941334\t[90] train_set-rmse : 11.300256156063991\n",
      "[91] validation_set-rmse : 57.37547700994674\t[91] train_set-rmse : 11.161764657672025\n",
      "[92] validation_set-rmse : 57.37691692691597\t[92] train_set-rmse : 11.029287501859388\n",
      "[93] validation_set-rmse : 57.38809646009161\t[93] train_set-rmse : 10.887174789509048\n",
      "[94] validation_set-rmse : 57.45402744993705\t[94] train_set-rmse : 10.725184478984108\n",
      "[95] validation_set-rmse : 57.503125863959674\t[95] train_set-rmse : 10.586629262534808\n"
     ]
    },
    {
     "name": "stdout",
     "output_type": "stream",
     "text": [
      "[96] validation_set-rmse : 57.546796236593764\t[96] train_set-rmse : 10.447898685569573\n",
      "[97] validation_set-rmse : 57.52068850223238\t[97] train_set-rmse : 10.314120705650389\n",
      "[98] validation_set-rmse : 57.55860773770601\t[98] train_set-rmse : 10.174528534511182\n",
      "[99] validation_set-rmse : 57.60825860205378\t[99] train_set-rmse : 10.065238137402385\n"
     ]
    }
   ],
   "source": [
    "custom = XGBRegressorRMS()\n",
    "custom.fit(X_train.values, y_train, eval_set = (X_test.values, y_test))\n",
    "\n",
    "y_pred = custom.predict(X_test.values)\n",
    "results[\"RMSprop\"] = custom.history"
   ]
  },
  {
   "cell_type": "markdown",
   "metadata": {},
   "source": [
    "## Original XGBoost "
   ]
  },
  {
   "cell_type": "code",
   "execution_count": 7,
   "metadata": {},
   "outputs": [
    {
     "name": "stdout",
     "output_type": "stream",
     "text": [
      "[0]\tvalidation_0-rmse:119.32756\n",
      "[1]\tvalidation_0-rmse:93.22636\n",
      "[2]\tvalidation_0-rmse:77.79602\n",
      "[3]\tvalidation_0-rmse:68.24764\n",
      "[4]\tvalidation_0-rmse:63.38055\n",
      "[5]\tvalidation_0-rmse:60.97445\n",
      "[6]\tvalidation_0-rmse:60.24472\n",
      "[7]\tvalidation_0-rmse:60.80915\n",
      "[8]\tvalidation_0-rmse:60.59282\n",
      "[9]\tvalidation_0-rmse:61.14302\n",
      "[10]\tvalidation_0-rmse:61.39846\n",
      "[11]\tvalidation_0-rmse:61.69669\n",
      "[12]\tvalidation_0-rmse:61.95347\n",
      "[13]\tvalidation_0-rmse:62.01958\n",
      "[14]\tvalidation_0-rmse:62.18780\n",
      "[15]\tvalidation_0-rmse:62.28210\n",
      "[16]\tvalidation_0-rmse:62.38843\n",
      "[17]\tvalidation_0-rmse:62.43783\n",
      "[18]\tvalidation_0-rmse:62.50838\n",
      "[19]\tvalidation_0-rmse:62.64378\n",
      "[20]\tvalidation_0-rmse:62.86266\n",
      "[21]\tvalidation_0-rmse:62.67214\n",
      "[22]\tvalidation_0-rmse:62.75052\n",
      "[23]\tvalidation_0-rmse:62.80328\n",
      "[24]\tvalidation_0-rmse:62.86892\n",
      "[25]\tvalidation_0-rmse:63.12924\n",
      "[26]\tvalidation_0-rmse:63.06793\n",
      "[27]\tvalidation_0-rmse:63.04744\n",
      "[28]\tvalidation_0-rmse:63.02758\n",
      "[29]\tvalidation_0-rmse:62.89526\n",
      "[30]\tvalidation_0-rmse:62.87672\n",
      "[31]\tvalidation_0-rmse:62.82021\n",
      "[32]\tvalidation_0-rmse:62.84444\n",
      "[33]\tvalidation_0-rmse:62.90360\n",
      "[34]\tvalidation_0-rmse:62.95918\n",
      "[35]\tvalidation_0-rmse:62.97465\n",
      "[36]\tvalidation_0-rmse:62.94654\n",
      "[37]\tvalidation_0-rmse:62.91347\n",
      "[38]\tvalidation_0-rmse:62.89030\n",
      "[39]\tvalidation_0-rmse:62.90730\n",
      "[40]\tvalidation_0-rmse:62.90269\n",
      "[41]\tvalidation_0-rmse:62.87709\n",
      "[42]\tvalidation_0-rmse:62.81004\n",
      "[43]\tvalidation_0-rmse:62.80897\n",
      "[44]\tvalidation_0-rmse:62.82931\n",
      "[45]\tvalidation_0-rmse:62.81844\n",
      "[46]\tvalidation_0-rmse:62.81035\n",
      "[47]\tvalidation_0-rmse:62.77665\n",
      "[48]\tvalidation_0-rmse:62.76542\n",
      "[49]\tvalidation_0-rmse:62.75137\n",
      "[50]\tvalidation_0-rmse:62.70380\n",
      "[51]\tvalidation_0-rmse:62.69337\n",
      "[52]\tvalidation_0-rmse:62.73114\n",
      "[53]\tvalidation_0-rmse:62.73658\n",
      "[54]\tvalidation_0-rmse:62.74466\n",
      "[55]\tvalidation_0-rmse:62.73385\n",
      "[56]\tvalidation_0-rmse:62.74187\n",
      "[57]\tvalidation_0-rmse:62.74771\n",
      "[58]\tvalidation_0-rmse:62.75997\n",
      "[59]\tvalidation_0-rmse:62.77365\n",
      "[60]\tvalidation_0-rmse:62.78655\n",
      "[61]\tvalidation_0-rmse:62.78333\n",
      "[62]\tvalidation_0-rmse:62.78059\n",
      "[63]\tvalidation_0-rmse:62.78622\n",
      "[64]\tvalidation_0-rmse:62.78748\n",
      "[65]\tvalidation_0-rmse:62.79037\n",
      "[66]\tvalidation_0-rmse:62.78830\n",
      "[67]\tvalidation_0-rmse:62.80218\n",
      "[68]\tvalidation_0-rmse:62.79469\n",
      "[69]\tvalidation_0-rmse:62.79469\n",
      "[70]\tvalidation_0-rmse:62.80472\n",
      "[71]\tvalidation_0-rmse:62.82616\n",
      "[72]\tvalidation_0-rmse:62.81472\n",
      "[73]\tvalidation_0-rmse:62.82496\n",
      "[74]\tvalidation_0-rmse:62.83067\n",
      "[75]\tvalidation_0-rmse:62.81585\n",
      "[76]\tvalidation_0-rmse:62.81643\n",
      "[77]\tvalidation_0-rmse:62.82286\n",
      "[78]\tvalidation_0-rmse:62.81864\n",
      "[79]\tvalidation_0-rmse:62.81200\n",
      "[80]\tvalidation_0-rmse:62.81341\n",
      "[81]\tvalidation_0-rmse:62.81264\n",
      "[82]\tvalidation_0-rmse:62.82072\n",
      "[83]\tvalidation_0-rmse:62.82040\n",
      "[84]\tvalidation_0-rmse:62.81860\n",
      "[85]\tvalidation_0-rmse:62.81997\n",
      "[86]\tvalidation_0-rmse:62.82180\n",
      "[87]\tvalidation_0-rmse:62.82156\n",
      "[88]\tvalidation_0-rmse:62.81746\n",
      "[89]\tvalidation_0-rmse:62.81950\n",
      "[90]\tvalidation_0-rmse:62.81885\n",
      "[91]\tvalidation_0-rmse:62.81327\n",
      "[92]\tvalidation_0-rmse:62.81378\n",
      "[93]\tvalidation_0-rmse:62.81720\n",
      "[94]\tvalidation_0-rmse:62.81294\n",
      "[95]\tvalidation_0-rmse:62.81543\n",
      "[96]\tvalidation_0-rmse:62.81676\n",
      "[97]\tvalidation_0-rmse:62.81976\n",
      "[98]\tvalidation_0-rmse:62.81667\n",
      "[99]\tvalidation_0-rmse:62.81472\n"
     ]
    }
   ],
   "source": [
    "import xgboost\n",
    "model = xgboost.XGBRegressor()\n",
    "model.fit(X_train, y_train, verbose=True, eval_metric=\"rmse\", eval_set=[(X_test, y_test)])\n",
    "\n",
    "y_pred = model.predict(X_test)"
   ]
  },
  {
   "cell_type": "code",
   "execution_count": 8,
   "metadata": {},
   "outputs": [],
   "source": [
    "eval_res = model.evals_result()"
   ]
  },
  {
   "cell_type": "markdown",
   "metadata": {},
   "source": [
    "## Comparing Performance"
   ]
  },
  {
   "cell_type": "code",
   "execution_count": 11,
   "metadata": {},
   "outputs": [
    {
     "data": {
      "text/plain": [
       "<matplotlib.axes._subplots.AxesSubplot at 0x2f63f64af48>"
      ]
     },
     "execution_count": 11,
     "metadata": {},
     "output_type": "execute_result"
    },
    {
     "data": {
      "image/png": "[encoded data removed]",
      "text/plain": [
       "<Figure size 720x576 with 1 Axes>"
      ]
     },
     "metadata": {
      "needs_background": "light"
     },
     "output_type": "display_data"
    }
   ],
   "source": [
    "plt.figure(figsize=(10, 8))\n",
    "sns.lineplot(y=eval_res[\"validation_0\"][\"rmse\"], x=range(len(eval_res[\"validation_0\"][\"rmse\"])), label=\"simple xgboost\")\n",
    "sns.lineplot(y = results['Adam'][\"test\"], x = range(len(results['Adam'][\"test\"])), label=\"xgboost Adam\")\n",
    "sns.lineplot(y = results['RMSprop'][\"test\"], x = range(len(results['RMSprop'][\"test\"])), label=\"xgboost RMSProp\")"
   ]
  },
  {
   "cell_type": "markdown",
   "metadata": {},
   "source": [
    "## Comparing CustomXGBoost with Original XGBoost"
   ]
  },
  {
   "cell_type": "code",
   "execution_count": 14,
   "metadata": {},
   "outputs": [
    {
     "name": "stdout",
     "output_type": "stream",
     "text": [
      "[0] validation_set-rmse : 62.20998923459462\t[0] train_set-rmse : 61.6388100479816\n",
      "[1] validation_set-rmse : 59.96235273267726\t[1] train_set-rmse : 49.56706463046613\n",
      "[2] validation_set-rmse : 59.13410037709241\t[2] train_set-rmse : 39.58608060958659\n",
      "[3] validation_set-rmse : 60.240603998508064\t[3] train_set-rmse : 32.39192242015271\n",
      "[4] validation_set-rmse : 60.46175609043559\t[4] train_set-rmse : 27.06104138044848\n",
      "[5] validation_set-rmse : 59.81222723613043\t[5] train_set-rmse : 23.495106513351974\n",
      "[6] validation_set-rmse : 60.79925413047281\t[6] train_set-rmse : 19.734204137001445\n",
      "[7] validation_set-rmse : 60.87938481389498\t[7] train_set-rmse : 17.269524083362114\n",
      "[8] validation_set-rmse : 61.410392172449775\t[8] train_set-rmse : 15.50432080738733\n",
      "[9] validation_set-rmse : 61.51134653998612\t[9] train_set-rmse : 13.851231511096923\n",
      "[10] validation_set-rmse : 61.61949656552175\t[10] train_set-rmse : 12.354215286802965\n",
      "[11] validation_set-rmse : 61.48882869823704\t[11] train_set-rmse : 11.396688059156261\n",
      "[12] validation_set-rmse : 61.94024949121112\t[12] train_set-rmse : 9.940800510378937\n",
      "[13] validation_set-rmse : 62.070637514506295\t[13] train_set-rmse : 8.95786454136467\n",
      "[14] validation_set-rmse : 62.3605647096008\t[14] train_set-rmse : 8.008229106890985\n",
      "[15] validation_set-rmse : 62.62745830226496\t[15] train_set-rmse : 7.237394115084987\n",
      "[16] validation_set-rmse : 62.52053324661032\t[16] train_set-rmse : 6.492540796482953\n",
      "[17] validation_set-rmse : 62.55914596983534\t[17] train_set-rmse : 6.364162058850732\n",
      "[18] validation_set-rmse : 62.567556866859846\t[18] train_set-rmse : 5.936738579066816\n",
      "[19] validation_set-rmse : 62.693955342075824\t[19] train_set-rmse : 5.369091974381867\n",
      "[20] validation_set-rmse : 62.686254898199195\t[20] train_set-rmse : 5.21457346402503\n",
      "[21] validation_set-rmse : 62.73542535339529\t[21] train_set-rmse : 5.091413573620784\n",
      "[22] validation_set-rmse : 62.809397233656554\t[22] train_set-rmse : 4.747177162057868\n",
      "[23] validation_set-rmse : 62.82609399101161\t[23] train_set-rmse : 4.4168273102255355\n",
      "[24] validation_set-rmse : 62.84174544417315\t[24] train_set-rmse : 4.367689094031079\n",
      "[25] validation_set-rmse : 62.975791297037645\t[25] train_set-rmse : 3.854558841248456\n",
      "[26] validation_set-rmse : 62.974199449893845\t[26] train_set-rmse : 3.5777454735811975\n",
      "[27] validation_set-rmse : 62.96791337329087\t[27] train_set-rmse : 3.3830753096226114\n",
      "[28] validation_set-rmse : 62.99715061924426\t[28] train_set-rmse : 3.151947996753259\n",
      "[29] validation_set-rmse : 63.008508658652985\t[29] train_set-rmse : 3.014909826058204\n",
      "[30] validation_set-rmse : 63.01257662978671\t[30] train_set-rmse : 2.8381076267070044\n",
      "[31] validation_set-rmse : 63.01261940010042\t[31] train_set-rmse : 2.565493706897404\n",
      "[32] validation_set-rmse : 62.967175059450454\t[32] train_set-rmse : 2.3409027680557206\n",
      "[33] validation_set-rmse : 63.00907584438185\t[33] train_set-rmse : 2.155451839715626\n",
      "[34] validation_set-rmse : 63.07223325755398\t[34] train_set-rmse : 2.0389235801737153\n",
      "[35] validation_set-rmse : 63.11268116412119\t[35] train_set-rmse : 1.848755716138401\n",
      "[36] validation_set-rmse : 63.0899453508511\t[36] train_set-rmse : 1.7407190060762077\n",
      "[37] validation_set-rmse : 63.119391524059154\t[37] train_set-rmse : 1.5771002088684425\n",
      "[38] validation_set-rmse : 63.1353990608258\t[38] train_set-rmse : 1.4790868926972973\n",
      "[39] validation_set-rmse : 63.12319499946759\t[39] train_set-rmse : 1.3668884740703136\n",
      "[40] validation_set-rmse : 63.129468144842896\t[40] train_set-rmse : 1.3353724736374983\n",
      "[41] validation_set-rmse : 63.13090460823058\t[41] train_set-rmse : 1.2532909867537432\n",
      "[42] validation_set-rmse : 63.13302830391134\t[42] train_set-rmse : 1.139756424856222\n",
      "[43] validation_set-rmse : 63.176774266008024\t[43] train_set-rmse : 0.9811266950590822\n",
      "[44] validation_set-rmse : 63.15724924184356\t[44] train_set-rmse : 0.8923975670482543\n",
      "[45] validation_set-rmse : 63.171993220588305\t[45] train_set-rmse : 0.7774194266439798\n",
      "[46] validation_set-rmse : 63.164930535605116\t[46] train_set-rmse : 0.6934647747027443\n",
      "[47] validation_set-rmse : 63.164315108269534\t[47] train_set-rmse : 0.6758168736860853\n",
      "[48] validation_set-rmse : 63.1634536412901\t[48] train_set-rmse : 0.6287183058050291\n",
      "[49] validation_set-rmse : 63.17480923069229\t[49] train_set-rmse : 0.582054720617954\n",
      "[50] validation_set-rmse : 63.17001146080733\t[50] train_set-rmse : 0.5568667223110207\n",
      "[51] validation_set-rmse : 63.175914208519124\t[51] train_set-rmse : 0.5099202375466357\n",
      "[52] validation_set-rmse : 63.17147643744025\t[52] train_set-rmse : 0.4599699680555324\n",
      "[53] validation_set-rmse : 63.17723760406996\t[53] train_set-rmse : 0.43885200415586156\n",
      "[54] validation_set-rmse : 63.18257559523469\t[54] train_set-rmse : 0.42045412499779633\n",
      "[55] validation_set-rmse : 63.18821309705404\t[55] train_set-rmse : 0.39192442656760235\n",
      "[56] validation_set-rmse : 63.18964572431803\t[56] train_set-rmse : 0.37206292903979193\n",
      "[57] validation_set-rmse : 63.20385964095918\t[57] train_set-rmse : 0.336998364062672\n",
      "[58] validation_set-rmse : 63.20583368583949\t[58] train_set-rmse : 0.3138702824667073\n",
      "[59] validation_set-rmse : 63.2123104172935\t[59] train_set-rmse : 0.2977648360524079\n",
      "[60] validation_set-rmse : 63.21611712329484\t[60] train_set-rmse : 0.28449523581486946\n",
      "[61] validation_set-rmse : 63.2168726836456\t[61] train_set-rmse : 0.2746227318357808\n",
      "[62] validation_set-rmse : 63.21865802211024\t[62] train_set-rmse : 0.26586525170241804\n",
      "[63] validation_set-rmse : 63.229522667852144\t[63] train_set-rmse : 0.2367285558593202\n",
      "[64] validation_set-rmse : 63.228453173305525\t[64] train_set-rmse : 0.21657667213116777\n",
      "[65] validation_set-rmse : 63.230817940436346\t[65] train_set-rmse : 0.1913073976095854\n",
      "[66] validation_set-rmse : 63.23140302402415\t[66] train_set-rmse : 0.17295825668648881\n",
      "[67] validation_set-rmse : 63.231804757966735\t[67] train_set-rmse : 0.16929973678000246\n",
      "[68] validation_set-rmse : 63.233484217560694\t[68] train_set-rmse : 0.15422475151102022\n",
      "[69] validation_set-rmse : 63.231491731099354\t[69] train_set-rmse : 0.14280068602772275\n",
      "[70] validation_set-rmse : 63.2305977773129\t[70] train_set-rmse : 0.13580439406302253\n",
      "[71] validation_set-rmse : 63.232263976122546\t[71] train_set-rmse : 0.13070794902477414\n",
      "[72] validation_set-rmse : 63.23199990670322\t[72] train_set-rmse : 0.1201185998632132\n",
      "[73] validation_set-rmse : 63.233329741006635\t[73] train_set-rmse : 0.11233331559897694\n",
      "[74] validation_set-rmse : 63.235667213620694\t[74] train_set-rmse : 0.09809661384661371\n",
      "[75] validation_set-rmse : 63.23776993802657\t[75] train_set-rmse : 0.08626185041453938\n",
      "[76] validation_set-rmse : 63.23686638295448\t[76] train_set-rmse : 0.0829784661751698\n",
      "[77] validation_set-rmse : 63.23709079893377\t[77] train_set-rmse : 0.07769923010992204\n",
      "[78] validation_set-rmse : 63.237296014349425\t[78] train_set-rmse : 0.07554742530795523\n",
      "[79] validation_set-rmse : 63.2364062931938\t[79] train_set-rmse : 0.07116527844087726\n",
      "[80] validation_set-rmse : 63.23457763463539\t[80] train_set-rmse : 0.0649810604169263\n",
      "[81] validation_set-rmse : 63.23513639300082\t[81] train_set-rmse : 0.058043862728061876\n",
      "[82] validation_set-rmse : 63.232933414892045\t[82] train_set-rmse : 0.05124747256435582\n",
      "[83] validation_set-rmse : 63.23224824640385\t[83] train_set-rmse : 0.04714820033155031\n",
      "[84] validation_set-rmse : 63.232457955098724\t[84] train_set-rmse : 0.04429664872632399\n",
      "[85] validation_set-rmse : 63.233068018171096\t[85] train_set-rmse : 0.040144207197842764\n",
      "[86] validation_set-rmse : 63.233462863607095\t[86] train_set-rmse : 0.03889415984444265\n",
      "[87] validation_set-rmse : 63.233080302363916\t[87] train_set-rmse : 0.03747981188946734\n",
      "[88] validation_set-rmse : 63.23361640831447\t[88] train_set-rmse : 0.03601558194433423\n",
      "[89] validation_set-rmse : 63.233308015407715\t[89] train_set-rmse : 0.031811026830430876\n",
      "[90] validation_set-rmse : 63.23282869530602\t[90] train_set-rmse : 0.028206505549672967\n",
      "[91] validation_set-rmse : 63.23352139846105\t[91] train_set-rmse : 0.02529247041752865\n",
      "[92] validation_set-rmse : 63.233195732722656\t[92] train_set-rmse : 0.024187327047256024\n",
      "[93] validation_set-rmse : 63.23358247020864\t[93] train_set-rmse : 0.021955011825585128\n",
      "[94] validation_set-rmse : 63.23401672901844\t[94] train_set-rmse : 0.02056349311905244\n",
      "[95] validation_set-rmse : 63.23426284247966\t[95] train_set-rmse : 0.019420301137460703\n"
     ]
    },
    {
     "name": "stdout",
     "output_type": "stream",
     "text": [
      "[96] validation_set-rmse : 63.234406656400054\t[96] train_set-rmse : 0.019233010494799918\n",
      "[97] validation_set-rmse : 63.23431472447363\t[97] train_set-rmse : 0.018128788424545586\n",
      "[98] validation_set-rmse : 63.23453163139256\t[98] train_set-rmse : 0.01627900504896643\n",
      "[99] validation_set-rmse : 63.234574256479426\t[99] train_set-rmse : 0.015843570197845592\n"
     ]
    }
   ],
   "source": [
    "custom = XGBRegressor()\n",
    "custom.fit(X_train.values, y_train, eval_set = (X_test.values, y_test))\n",
    "\n",
    "y_pred = custom.predict(X_test.values)"
   ]
  },
  {
   "cell_type": "code",
   "execution_count": 17,
   "metadata": {},
   "outputs": [
    {
     "data": {
      "text/plain": [
       "<matplotlib.axes._subplots.AxesSubplot at 0x2f64a231ac8>"
      ]
     },
     "execution_count": 17,
     "metadata": {},
     "output_type": "execute_result"
    },
    {
     "data": {
      "image/png": "[encoded data removed]",
      "text/plain": [
       "<Figure size 720x576 with 1 Axes>"
      ]
     },
     "metadata": {
      "needs_background": "light"
     },
     "output_type": "display_data"
    }
   ],
   "source": [
    "plt.figure(figsize=(10, 8))\n",
    "sns.lineplot(y=eval_res[\"validation_0\"][\"rmse\"], x=range(len(eval_res[\"validation_0\"][\"rmse\"])), label=\"Original XGBoost\")\n",
    "sns.lineplot(y=custom.history[\"test\"], x=range(len(custom.history[\"test\"])), label=\"Custom XGBoost\")"
   ]
  },
  {
   "cell_type": "code",
   "execution_count": null,
   "metadata": {},
   "outputs": [],
   "source": []
  }
 ],
 "metadata": {
  "kernelspec": {
   "display_name": "Python 3",
   "language": "python",
   "name": "python3"
  },
  "language_info": {
   "codemirror_mode": {
    "name": "ipython",
    "version": 3
   },
   "file_extension": ".py",
   "mimetype": "text/x-python",
   "name": "python",
   "nbconvert_exporter": "python",
   "pygments_lexer": "ipython3",
   "version": "3.7.4"
  }
 },
 "nbformat": 4,
 "nbformat_minor": 2
}
